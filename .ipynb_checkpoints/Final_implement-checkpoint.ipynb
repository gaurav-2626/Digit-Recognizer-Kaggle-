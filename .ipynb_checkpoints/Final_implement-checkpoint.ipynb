{
 "cells": [
  {
   "cell_type": "code",
   "execution_count": 1,
   "metadata": {
    "colab": {
     "base_uri": "https://localhost:8080/",
     "height": 90
    },
    "colab_type": "code",
    "id": "GtMnKI2VTVAl",
    "outputId": "0e0feed0-b2aa-443a-99f8-9ffaeb3af1f8"
   },
   "outputs": [
    {
     "name": "stdout",
     "output_type": "stream",
     "text": [
      "WARNING:tensorflow:From /usr/local/lib/python3.6/dist-packages/tensorflow/python/compat/v2_compat.py:96: disable_resource_variables (from tensorflow.python.ops.variable_scope) is deprecated and will be removed in a future version.\n",
      "Instructions for updating:\n",
      "non-resource variables are not supported in the long term\n"
     ]
    }
   ],
   "source": [
    "import pandas as pd\n",
    "import numpy as np\n",
    "#tf.compat.v1.enable_eager_execution()\n",
    "import tensorflow.compat.v1 as tf\n",
    "tf.disable_v2_behavior() \n",
    "import matplotlib.pyplot as plt\n",
    "%matplotlib notebook\n",
    "from keras.datasets import mnist\n",
    "from sklearn.model_selection import train_test_split \n",
    "from keras.models import Sequential\n",
    "from keras.layers import Dense, Dropout, Flatten, Conv2D, MaxPooling2D, BatchNormalization,Input,Activation\n",
    "from keras.models import Model"
   ]
  },
  {
   "cell_type": "code",
   "execution_count": 2,
   "metadata": {
    "colab": {
     "base_uri": "https://localhost:8080/",
     "height": 230
    },
    "colab_type": "code",
    "id": "pSLVDBGVT4ah",
    "outputId": "f2fcf6c1-ad94-4f15-e8fc-6fefd47d449d"
   },
   "outputs": [
    {
     "name": "stdout",
     "output_type": "stream",
     "text": [
      "Go to this URL in a browser: https://accounts.google.com/o/oauth2/auth?client_id=947318989803-6bn6qk8qdgf4n4g3pfee6491hc0brc4i.apps.googleusercontent.com&redirect_uri=urn%3aietf%3awg%3aoauth%3a2.0%3aoob&response_type=code&scope=email%20https%3a%2f%2fwww.googleapis.com%2fauth%2fdocs.test%20https%3a%2f%2fwww.googleapis.com%2fauth%2fdrive%20https%3a%2f%2fwww.googleapis.com%2fauth%2fdrive.photos.readonly%20https%3a%2f%2fwww.googleapis.com%2fauth%2fpeopleapi.readonly\n",
      "\n",
      "Enter your authorization code:\n",
      "··········\n",
      "Mounted at /content/drive\n",
      " Boombox\t        kaggle_digit\t        registration.pdf\n",
      " captions\t        marksheet_.pdf\t        SMMI_TestResult.gdoc\n",
      " Classroom\t        marksheet.pdf\t        undertaking.pdf\n",
      "'Colab Notebooks'      'receipt (1).pdf'       'Untitled document.gdoc'\n",
      " Flicker8k_Dataset      receipt.pdf\n",
      "'Getting started.pdf'  'registration (1).pdf'\n"
     ]
    }
   ],
   "source": [
    "from google.colab import drive\n",
    "drive.mount('/content/drive')\n",
    "!ls \"/content/drive/My Drive\""
   ]
  },
  {
   "cell_type": "code",
   "execution_count": 3,
   "metadata": {
    "colab": {},
    "colab_type": "code",
    "id": "S0eD-S-tT8oh"
   },
   "outputs": [],
   "source": [
    "train = pd.read_csv(r\"drive/My Drive/kaggle_digit/train.csv\")\n",
    "test  = pd.read_csv(r\"drive/My Drive/kaggle_digit/test.csv\")"
   ]
  },
  {
   "cell_type": "code",
   "execution_count": 4,
   "metadata": {
    "colab": {
     "base_uri": "https://localhost:8080/",
     "height": 87
    },
    "colab_type": "code",
    "id": "U655Uqn-UDEz",
    "outputId": "47e73bb6-932b-4d7b-ffdc-86a23c232e6a"
   },
   "outputs": [
    {
     "name": "stdout",
     "output_type": "stream",
     "text": [
      "Downloading data from https://storage.googleapis.com/tensorflow/tf-keras-datasets/mnist.npz\n",
      "11493376/11490434 [==============================] - 0s 0us/step\n",
      "(60000, 28, 28)\n",
      "(60000,)\n"
     ]
    }
   ],
   "source": [
    "(trainX, trainy), (testX, testy) = mnist.load_data()\n",
    "trainX,trainy,testX,testy = np.array(trainX),np.array(trainy),np.array(testX),np.array(testy)\n",
    "print(trainX.shape)\n",
    "print(trainy.shape)"
   ]
  },
  {
   "cell_type": "code",
   "execution_count": 5,
   "metadata": {
    "colab": {
     "base_uri": "https://localhost:8080/",
     "height": 34
    },
    "colab_type": "code",
    "id": "dz5p8fV1UFCi",
    "outputId": "4331d185-c0c9-4d77-c447-94ebd88477d0"
   },
   "outputs": [
    {
     "name": "stdout",
     "output_type": "stream",
     "text": [
      "(42000, 784)\n"
     ]
    }
   ],
   "source": [
    "y = train[\"label\"]\n",
    "x = train.drop(\"label\",axis=1)\n",
    "print(x.shape) "
   ]
  },
  {
   "cell_type": "code",
   "execution_count": 6,
   "metadata": {
    "colab": {},
    "colab_type": "code",
    "id": "5sYq50XOUHEa"
   },
   "outputs": [],
   "source": [
    "x_train,x_test,y_train,y_test = train_test_split(x,y,test_size = 0.2, random_state = 0)"
   ]
  },
  {
   "cell_type": "code",
   "execution_count": 7,
   "metadata": {
    "colab": {
     "base_uri": "https://localhost:8080/",
     "height": 34
    },
    "colab_type": "code",
    "id": "5RqAlhbBUJA5",
    "outputId": "4be1a98f-fb7c-4db3-f96d-994dfe14fe98"
   },
   "outputs": [
    {
     "name": "stdout",
     "output_type": "stream",
     "text": [
      "(93600, 28, 28, 1)\n"
     ]
    }
   ],
   "source": [
    "x_train =  np.array(x_train)\n",
    "x1 = x_train.reshape(-1,28,28,1)\n",
    "trainX = trainX.reshape(-1,28,28,1)\n",
    "x_train =  np.concatenate((x1,trainX),axis=0)\n",
    "x_train = x_train/255\n",
    "#print(x_train[0])\n",
    "print(x_train.shape)"
   ]
  },
  {
   "cell_type": "code",
   "execution_count": 8,
   "metadata": {
    "colab": {
     "base_uri": "https://localhost:8080/",
     "height": 52
    },
    "colab_type": "code",
    "id": "eJxg5HmOUKsC",
    "outputId": "1457e196-5b4b-488a-e421-e5619529da56"
   },
   "outputs": [
    {
     "name": "stdout",
     "output_type": "stream",
     "text": [
      "(33600,)\n",
      "(93600, 10)\n"
     ]
    }
   ],
   "source": [
    "print(y_train.shape)\n",
    "y_train = pd.get_dummies(y_train)\n",
    "trainy  = pd.get_dummies(trainy)\n",
    "y_train = np.concatenate((y_train,trainy),axis=0)\n",
    "print(y_train.shape)"
   ]
  },
  {
   "cell_type": "code",
   "execution_count": 9,
   "metadata": {
    "colab": {
     "base_uri": "https://localhost:8080/",
     "height": 34
    },
    "colab_type": "code",
    "id": "b8jSb0IYZQgu",
    "outputId": "ac70dc44-321a-4db0-caef-578508d14c36"
   },
   "outputs": [
    {
     "name": "stdout",
     "output_type": "stream",
     "text": [
      "(8400, 28, 28, 1)\n"
     ]
    }
   ],
   "source": [
    "x_test = np.array(x_test)\n",
    "x_test = x_test.reshape(-1,28,28,1)\n",
    "print(x_test.shape)"
   ]
  },
  {
   "cell_type": "code",
   "execution_count": 10,
   "metadata": {
    "colab": {
     "base_uri": "https://localhost:8080/",
     "height": 34
    },
    "colab_type": "code",
    "id": "VfCXC0NWZo-6",
    "outputId": "f97ef590-c337-4a91-9c97-192d8e7381b2"
   },
   "outputs": [
    {
     "data": {
      "text/plain": [
       "(8400, 10)"
      ]
     },
     "execution_count": 10,
     "metadata": {
      "tags": []
     },
     "output_type": "execute_result"
    }
   ],
   "source": [
    "y_test = pd.get_dummies(y_test)\n",
    "y_test.shape"
   ]
  },
  {
   "cell_type": "code",
   "execution_count": 11,
   "metadata": {
    "colab": {},
    "colab_type": "code",
    "id": "hM3aSS19UNB5"
   },
   "outputs": [],
   "source": [
    "def define_model() :\n",
    "    input1 = Input(shape=(28,28,1))\n",
    "    \n",
    "    c1 = Conv2D(32, kernel_size=(5, 5),padding='SAME')(input1)\n",
    "    b1 = BatchNormalization()(c1)\n",
    "    r1 = Activation('relu')(b1)\n",
    "    p1 = MaxPooling2D(pool_size=(2, 2),padding='SAME')(r1)\n",
    "\n",
    "    c2 = Conv2D(32, kernel_size=(5, 5),padding='SAME')(p1)\n",
    "    b2 = BatchNormalization()(c2)\n",
    "    r2 = Activation('relu')(b2)\n",
    "    p2 = MaxPooling2D(pool_size=(2, 2),padding='SAME')(r2)\n",
    "    \n",
    "    f1 = Flatten()(p2)\n",
    "\n",
    "    d1 = Dense(256,activation='relu')(f1)\n",
    "    d2 = Dropout(0.5)(d1)\n",
    "\n",
    "    outputs = Dense(10, activation='softmax')(d2)\n",
    "\n",
    "    model = Model(inputs=[input1],outputs=outputs)\n",
    "    \n",
    "    return model"
   ]
  },
  {
   "cell_type": "code",
   "execution_count": 15,
   "metadata": {
    "colab": {},
    "colab_type": "code",
    "id": "OIgpHmRecJRs"
   },
   "outputs": [],
   "source": [
    "model = Sequential()\n",
    "\n",
    "model.add(Conv2D(32, kernel_size=(5, 5),input_shape=(28, 28, 1),padding='SAME'))\n",
    "model.add(BatchNormalization())\n",
    "model.add(Activation('relu'))\n",
    "model.add(MaxPooling2D(pool_size=(2, 2),padding='SAME'))\n",
    "\n",
    "model.add(Conv2D(64, kernel_size=(5, 5),padding='SAME'))\n",
    "model.add(BatchNormalization())\n",
    "model.add(Activation('relu'))\n",
    "model.add(MaxPooling2D(pool_size=(2, 2),padding='SAME'))\n",
    "\n",
    "model.add(Flatten())\n",
    "\n",
    "model.add(Dense(64,activation='relu'))\n",
    "\n",
    "model.add(Dense(10,activation='softmax'))"
   ]
  },
  {
   "cell_type": "code",
   "execution_count": 16,
   "metadata": {
    "colab": {
     "base_uri": "https://localhost:8080/",
     "height": 967
    },
    "colab_type": "code",
    "id": "FyRtQxEpX4H5",
    "outputId": "ea9fbc9d-3e4f-4ea7-f492-f0ba192bfd46"
   },
   "outputs": [
    {
     "name": "stdout",
     "output_type": "stream",
     "text": [
      "Model: \"sequential_1\"\n",
      "_________________________________________________________________\n",
      "Layer (type)                 Output Shape              Param #   \n",
      "=================================================================\n",
      "conv2d_2 (Conv2D)            (None, 28, 28, 32)        832       \n",
      "_________________________________________________________________\n",
      "batch_normalization_2 (Batch (None, 28, 28, 32)        128       \n",
      "_________________________________________________________________\n",
      "activation_2 (Activation)    (None, 28, 28, 32)        0         \n",
      "_________________________________________________________________\n",
      "max_pooling2d_2 (MaxPooling2 (None, 14, 14, 32)        0         \n",
      "_________________________________________________________________\n",
      "conv2d_3 (Conv2D)            (None, 14, 14, 64)        51264     \n",
      "_________________________________________________________________\n",
      "batch_normalization_3 (Batch (None, 14, 14, 64)        256       \n",
      "_________________________________________________________________\n",
      "activation_3 (Activation)    (None, 14, 14, 64)        0         \n",
      "_________________________________________________________________\n",
      "max_pooling2d_3 (MaxPooling2 (None, 7, 7, 64)          0         \n",
      "_________________________________________________________________\n",
      "flatten_1 (Flatten)          (None, 3136)              0         \n",
      "_________________________________________________________________\n",
      "dense_2 (Dense)              (None, 64)                200768    \n",
      "_________________________________________________________________\n",
      "dense_3 (Dense)              (None, 10)                650       \n",
      "=================================================================\n",
      "Total params: 253,898\n",
      "Trainable params: 253,706\n",
      "Non-trainable params: 192\n",
      "_________________________________________________________________\n",
      "None\n",
      "Train on 93600 samples, validate on 8400 samples\n",
      "Epoch 1/10\n",
      "93600/93600 - 10s - loss: 0.1164 - acc: 0.9651 - val_loss: 0.6356 - val_acc: 0.9601\n",
      "Epoch 2/10\n",
      "93600/93600 - 10s - loss: 0.0389 - acc: 0.9879 - val_loss: 1.7977 - val_acc: 0.8871\n",
      "Epoch 3/10\n",
      "93600/93600 - 10s - loss: 0.0243 - acc: 0.9923 - val_loss: 0.3413 - val_acc: 0.9783\n",
      "Epoch 4/10\n",
      "93600/93600 - 10s - loss: 0.0205 - acc: 0.9934 - val_loss: 0.1711 - val_acc: 0.9893\n",
      "Epoch 5/10\n",
      "93600/93600 - 10s - loss: 0.0177 - acc: 0.9940 - val_loss: 0.1303 - val_acc: 0.9915\n",
      "Epoch 6/10\n",
      "93600/93600 - 10s - loss: 0.0144 - acc: 0.9955 - val_loss: 0.7427 - val_acc: 0.9536\n",
      "Epoch 7/10\n",
      "93600/93600 - 10s - loss: 0.0107 - acc: 0.9964 - val_loss: 0.1741 - val_acc: 0.9892\n",
      "Epoch 8/10\n",
      "93600/93600 - 10s - loss: 0.0106 - acc: 0.9963 - val_loss: 0.1794 - val_acc: 0.9885\n",
      "Epoch 9/10\n",
      "93600/93600 - 10s - loss: 0.0078 - acc: 0.9973 - val_loss: 0.2541 - val_acc: 0.9839\n",
      "Epoch 10/10\n",
      "93600/93600 - 10s - loss: 0.0075 - acc: 0.9975 - val_loss: 0.1166 - val_acc: 0.9927\n",
      "Test loss: 0.11662581588009698\n",
      "Test accuracy: 0.99273807\n"
     ]
    }
   ],
   "source": [
    "model.compile(loss='categorical_crossentropy',optimizer='adam',metrics=['accuracy'])\n",
    "batch_size = 128\n",
    "epochs = 10\n",
    "print(model.summary())\n",
    "model.fit(x_train, y_train,batch_size=batch_size,epochs=epochs,verbose=2,validation_data=(x_test, y_test))\n",
    "\n",
    "score = model.evaluate(x_test, y_test, verbose=2)\n",
    "print('Test loss:', score[0])\n",
    "print('Test accuracy:', score[1])\n",
    "model.save(\"test_model.h5\")"
   ]
  },
  {
   "cell_type": "code",
   "execution_count": 18,
   "metadata": {
    "colab": {
     "base_uri": "https://localhost:8080/",
     "height": 34
    },
    "colab_type": "code",
    "id": "2gTp0mUwYYbb",
    "outputId": "767d6c15-48a4-463b-f8d4-42b514abcbb5"
   },
   "outputs": [
    {
     "data": {
      "text/plain": [
       "(28000, 28, 28, 1)"
      ]
     },
     "execution_count": 18,
     "metadata": {
      "tags": []
     },
     "output_type": "execute_result"
    }
   ],
   "source": [
    "test = np.array(test)\n",
    "test = test.reshape(-1,28,28,1)\n",
    "test.shape"
   ]
  },
  {
   "cell_type": "code",
   "execution_count": 28,
   "metadata": {
    "colab": {
     "base_uri": "https://localhost:8080/",
     "height": 34
    },
    "colab_type": "code",
    "id": "B-CqvnGciH30",
    "outputId": "8a9a25d6-49fa-4aae-c993-68c3153d4269"
   },
   "outputs": [
    {
     "name": "stdout",
     "output_type": "stream",
     "text": [
      "[2 0 9 ... 3 9 2]\n"
     ]
    }
   ],
   "source": [
    "pred = model.predict(test)\n",
    "pred = np.argmax(pred,axis = 1)\n",
    "print(pred)"
   ]
  },
  {
   "cell_type": "code",
   "execution_count": 41,
   "metadata": {
    "colab": {},
    "colab_type": "code",
    "id": "0PTQb3LYi0-Y"
   },
   "outputs": [],
   "source": [
    "submission = pd.DataFrame()"
   ]
  },
  {
   "cell_type": "code",
   "execution_count": 43,
   "metadata": {
    "colab": {
     "base_uri": "https://localhost:8080/",
     "height": 263
    },
    "colab_type": "code",
    "id": "ZSzOxSM0kLw_",
    "outputId": "7dd7d2f4-6f34-439f-c4a9-e2cf2d65fda8"
   },
   "outputs": [
    {
     "name": "stdout",
     "output_type": "stream",
     "text": [
      "       ImageId  label\n",
      "0            1      2\n",
      "1            2      0\n",
      "2            3      9\n",
      "3            4      9\n",
      "4            5      3\n",
      "...        ...    ...\n",
      "27995    27996      9\n",
      "27996    27997      7\n",
      "27997    27998      3\n",
      "27998    27999      9\n",
      "27999    28000      2\n",
      "\n",
      "[28000 rows x 2 columns]\n"
     ]
    }
   ],
   "source": [
    "submission['ImageId'] = np.array(range(pred.shape[0])) + 1\n",
    "submission['label']   = pred\n",
    "print(submission)"
   ]
  },
  {
   "cell_type": "code",
   "execution_count": 44,
   "metadata": {
    "colab": {},
    "colab_type": "code",
    "id": "Rmve_R76khNi"
   },
   "outputs": [],
   "source": [
    "submission.to_csv('drive/My Drive/kaggle_digit/Submission.csv', index = False)"
   ]
  },
  {
   "cell_type": "code",
   "execution_count": null,
   "metadata": {
    "colab": {},
    "colab_type": "code",
    "id": "pKVNBUsGlskK"
   },
   "outputs": [],
   "source": []
  }
 ],
 "metadata": {
  "accelerator": "GPU",
  "colab": {
   "name": "Untitled1.ipynb",
   "provenance": []
  },
  "kernelspec": {
   "display_name": "Python 3",
   "language": "python",
   "name": "python3"
  },
  "language_info": {
   "codemirror_mode": {
    "name": "ipython",
    "version": 3
   },
   "file_extension": ".py",
   "mimetype": "text/x-python",
   "name": "python",
   "nbconvert_exporter": "python",
   "pygments_lexer": "ipython3",
   "version": "3.7.3"
  }
 },
 "nbformat": 4,
 "nbformat_minor": 1
}
